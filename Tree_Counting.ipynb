{
 "cells": [
  {
   "cell_type": "markdown",
   "id": "331f2ac0",
   "metadata": {},
   "source": [
    "## Tree Counting Prediction"
   ]
  },
  {
   "cell_type": "code",
   "execution_count": 1,
   "id": "23c410a4",
   "metadata": {},
   "outputs": [],
   "source": [
    "# IMG_NAME = \"YPE_A_P19A1\"\n",
    "LADANG = 'TDB'\n",
    "source = \"D:/7_Project/PKPS/\"+LADANG#directory to a folder that contains image and prediction label.\n",
    "IMG_PATH = source+'/IMG/'#+IMG_NAME+\".tif\"\n",
    "MODEL = \"sdpr.pt\""
   ]
  },
  {
   "cell_type": "code",
   "execution_count": null,
   "id": "f7265cc9",
   "metadata": {},
   "outputs": [],
   "source": [
    "import os\n",
    "import time\n",
    "import pickle\n",
    "\n",
    "def print_tif_file_names(folder_path):\n",
    "    print(\"start\")\n",
    "    import os\n",
    "    import time\n",
    "    import pickle\n",
    "    try:\n",
    "        # List all files in the folder.\n",
    "        files = os.listdir(folder_path)\n",
    "        print(files)\n",
    "\n",
    "        # Filter only the .tif files and print their names.\n",
    "        i=0\n",
    "        for file in files:\n",
    "            print(file)\n",
    "            if file.lower().endswith('.tif'):\n",
    "                i=i+1\n",
    "                print(\"Start prediction: \"+str(i)+\" out of \"+str(len(files)))\n",
    "                #=========================================================================#\n",
    "                #START PREDICTION\n",
    "                #=========================================================================#\n",
    "                start_time = time.time()\n",
    "                !sahi predict --slice_width 640 --slice_height 640 --overlap_height_ratio 0.3 --overlap_width_ratio 0.3 --model_confidence_threshold 0.25 --source {IMG_PATH}{file} --model_path sahi/{MODEL} --model_type yolov8 --export_pickle\n",
    "                end_time = time.time()\n",
    "                elapsed_time = end_time - start_time\n",
    "                print(f\"Elapsed time: {elapsed_time:.2f} seconds\")\n",
    "                #=========================================================================#                \n",
    "                #PICKLE TO YOLO                \n",
    "                #=========================================================================#\n",
    "                IMG_NAME = os.path.splitext(file)[0]\n",
    "                print(IMG_NAME)\n",
    "                dir_path = 'D:/7_Project/palmtree_detection/runs/predict/exp/'\n",
    "                pickle_file = dir_path+'pickles/'+IMG_NAME+'.pickle'\n",
    "                # Load data from pickle file\n",
    "                with open(pickle_file, 'rb') as f:\n",
    "                    data = pickle.load(f)\n",
    "                print(\"DATA LOADED\")\n",
    "                #=========================================================================#\n",
    "                #Image Size\n",
    "                #=========================================================================#\n",
    "                import imageio\n",
    "\n",
    "                def get_image_size(file_path):\n",
    "                    image = imageio.imread(file_path)\n",
    "                    image_width, image_height = image.shape[1], image.shape[0]\n",
    "                    return image_width, image_height\n",
    "\n",
    "                # Usage\n",
    "                image_width, image_height = get_image_size(IMG_PATH+file)\n",
    "                print(\"Width:\", image_width)\n",
    "                print(\"Height:\", image_height)\n",
    "                #=========================================================================#\n",
    "                #Converting Pickle to YOLO\n",
    "                #=========================================================================#\n",
    "                import re\n",
    "\n",
    "                def convert_bbox_to_yolo(bbox, image_width, image_height):\n",
    "                    x_min, y_min, x_max, y_max = bbox\n",
    "                    bbox_height = y_max - y_min\n",
    "                    bbox_width = x_max - x_min\n",
    "                    x_center = (x_max + x_min)/2.0\n",
    "                    y_center = (y_max + y_min)/2.0\n",
    "\n",
    "                    normalized_x = x_center / image_width\n",
    "                    normalized_y = y_center / image_height\n",
    "                    normalized_width = bbox_width / image_width\n",
    "                    normalized_height = bbox_height / image_height\n",
    "\n",
    "                    return normalized_x, normalized_y, normalized_width, normalized_height\n",
    "\n",
    "\n",
    "                def convert_pickle_to_yolo(pickle_data, image_width, image_height):\n",
    "                    bbox_info = re.search(r'bbox: BoundingBox: <\\((.*?), (.*?), (.*?), (.*?)\\)', pickle_data)\n",
    "                    class_id_info = re.search(r'category: Category: <id: (.*?),', pickle_data)\n",
    "                    pred_info = re.search(r'score: PredictionScore: <value: (.*?)>,', pickle_data)\n",
    "\n",
    "                    if bbox_info and class_id_info:\n",
    "                        bbox = tuple(map(float, bbox_info.groups()))\n",
    "                        class_id = int(class_id_info.group(1))\n",
    "                        pred_id = float(pred_info.group(1))\n",
    "\n",
    "                        yolo_data = convert_bbox_to_yolo(bbox, image_width, image_height)\n",
    "                        yolo_txt = f\"{class_id} {' '.join(map(str, yolo_data))} {pred_id}\"\n",
    "                        return yolo_txt\n",
    "                    else:\n",
    "                        return None\n",
    "\n",
    "                # Convert data to YOLO format\n",
    "                yolo_data = []\n",
    "                for item in data:\n",
    "                    yolo_txt = convert_pickle_to_yolo(str(item), image_width, image_height)\n",
    "                    if yolo_txt:\n",
    "                        yolo_data.append(yolo_txt)\n",
    "                # print(yolo_data)\n",
    "                #=========================================================================#\n",
    "                #Save YOLO text file\n",
    "                #=========================================================================#\n",
    "                # Save YOLO data to a text file\n",
    "                file_path=dir_path+IMG_NAME+'.txt'\n",
    "                with open(file_path, 'w') as f:\n",
    "                    for row in yolo_data:\n",
    "                        f.write(row + '\\n')\n",
    "\n",
    "                print(\"CONVERSION COMPLETE\")\n",
    "                \n",
    "                #=========================================================================#\n",
    "                #Move\n",
    "                #=========================================================================#\n",
    "                import shutil\n",
    "                import os\n",
    "\n",
    "                def create_folder(folder_path):\n",
    "                    try:\n",
    "                        # Create the folder at the specified path.\n",
    "                        os.mkdir(folder_path)\n",
    "                        print(f\"Folder created successfully at '{folder_path}'.\")\n",
    "                    except FileExistsError:\n",
    "                        print(f\"Error: Folder already exists at '{folder_path}'.\")\n",
    "\n",
    "                # Example usage:\n",
    "\n",
    "\n",
    "                def move_file(source_path, destination_path):\n",
    "                    try:\n",
    "                        # Move the file from the source path to the destination path.\n",
    "                        shutil.move(source_path, destination_path)\n",
    "                        print(f\"File moved successfully from '{source_path}' to '{destination_path}'.\")\n",
    "                    except FileNotFoundError:\n",
    "                        print(\"Error: Source file not found.\")\n",
    "                    except FileExistsError:\n",
    "                        print(f\"Error: A file already exists at '{destination_path}'.\")\n",
    "\n",
    "                folder_path = source+'/predict'\n",
    "                destination_path = folder_path+\"/\"+IMG_NAME+'.txt'\n",
    "\n",
    "                create_folder(folder_path)\n",
    "                move_file(file_path, folder_path)\n",
    "                \n",
    "                #=========================================================================#\n",
    "                #  Delete previous prediction folder(exp)\n",
    "                #=========================================================================#\n",
    "                \n",
    "                import shutil\n",
    "                def delete_folder(folder_path):\n",
    "                    try:\n",
    "                        # Delete the folder and its contents recursively.\n",
    "                        shutil.rmtree(folder_path)\n",
    "                        print(f\"Folder '{folder_path}' and its contents have been deleted.\")\n",
    "                    except FileNotFoundError:\n",
    "                        print(f\"Error: Folder '{folder_path}' not found.\")\n",
    "                    except PermissionError:\n",
    "                        print(f\"Error: Permission denied to delete folder '{folder_path}'.\")\n",
    "\n",
    "                # Example usage:\n",
    "                # folder_path = 'D:/7_Project/palmtree_detection/runs/predict/exp'\n",
    "\n",
    "                delete_folder(dir_path)                \n",
    "                #=========================================================================#\n",
    "                \n",
    "    except FileNotFoundError:\n",
    "        print(f\"Error: Folder '{folder_path}' not found.\")\n",
    "    except PermissionError:\n",
    "        print(f\"Error: Permission denied to access folder '{folder_path}'.\")\n",
    "    \n",
    "    print()\n",
    "    \n",
    "start_time = time.time()\n",
    "print_tif_file_names(IMG_PATH)\n",
    "end_time = time.time()\n",
    "elapsed_time = (end_time - start_time)/60\n",
    "print(f\"Elapsed time: {elapsed_time:.2f} minutes\")\n",
    "print(\"PREDICITON FINISH\")"
   ]
  },
  {
   "cell_type": "markdown",
   "id": "6004ada1",
   "metadata": {},
   "source": [
    "## Convert to Geopackage"
   ]
  },
  {
   "cell_type": "code",
   "execution_count": null,
   "id": "70541b7c-f7ec-4e8d-b1d3-3a6fa7cdb02d",
   "metadata": {
    "scrolled": true
   },
   "outputs": [],
   "source": [
    "pip install rasterio"
   ]
  },
  {
   "cell_type": "code",
   "execution_count": 2,
   "id": "6e5d1d06",
   "metadata": {},
   "outputs": [],
   "source": [
    "import os\n",
    "from adds.GenUtils import question, get_types, get_paths, make_folder, askPath, askFile, askInt, askFloat\n",
    "from adds.DLUtils import get_train_cfg, link_dataset, get_model_cfg, get_args\n",
    "from adds.inf2shp import det2gdf, copyfiles, get_world_file\n",
    "import geopandas as gpd\n",
    "import pandas as pd\n",
    "import torch\n",
    "from pyproj import CRS\n",
    "from IPython.display import Image"
   ]
  },
  {
   "cell_type": "code",
   "execution_count": 3,
   "id": "8c7710e9",
   "metadata": {},
   "outputs": [
    {
     "name": "stdout",
     "output_type": "stream",
     "text": [
      "D:\\7_Project\\palmtree_detection\n"
     ]
    }
   ],
   "source": [
    "home = os.getcwd()\n",
    "os.chdir(home)\n",
    "print(home)"
   ]
  },
  {
   "cell_type": "code",
   "execution_count": null,
   "id": "0b7df25f",
   "metadata": {},
   "outputs": [],
   "source": [
    "#directory to a folder that contains image and prediction label.\n",
    "# LADANG = 'NYE'\n",
    "# source = \"D:/03_SDPR_TREE_COUNT/\"+LADANG"
   ]
  },
  {
   "cell_type": "code",
   "execution_count": 4,
   "id": "9ae08b64",
   "metadata": {},
   "outputs": [
    {
     "name": "stdout",
     "output_type": "stream",
     "text": [
      "haluu\n",
      "Please enter only: \n",
      "yes, y, no, n\n"
     ]
    },
    {
     "name": "stdin",
     "output_type": "stream",
     "text": [
      "\n",
      "TDB Folder exist, remove it?   Answer:  y\n"
     ]
    },
    {
     "name": "stdout",
     "output_type": "stream",
     "text": [
      "TDB Folder created\n",
      "fname: D:/7_Project/PKPS/TDB/TDB\n"
     ]
    },
    {
     "ename": "FileNotFoundError",
     "evalue": "[WinError 2] The system cannot find the file specified",
     "output_type": "error",
     "traceback": [
      "\u001b[1;31m---------------------------------------------------------------------------\u001b[0m",
      "\u001b[1;31mFileNotFoundError\u001b[0m                         Traceback (most recent call last)",
      "File \u001b[1;32m~\\anaconda3\\Lib\\shutil.py:886\u001b[0m, in \u001b[0;36mmove\u001b[1;34m(src, dst, copy_function)\u001b[0m\n\u001b[0;32m    885\u001b[0m \u001b[38;5;28;01mtry\u001b[39;00m:\n\u001b[1;32m--> 886\u001b[0m     os\u001b[38;5;241m.\u001b[39mrename(src, real_dst)\n\u001b[0;32m    887\u001b[0m \u001b[38;5;28;01mexcept\u001b[39;00m \u001b[38;5;167;01mOSError\u001b[39;00m:\n",
      "\u001b[1;31mFileNotFoundError\u001b[0m: [WinError 2] The system cannot find the file specified: 'D:/7_Project/PKPS/TDB/TDB.gpkg' -> 'D:/7_Project/PKPS/TDB/GPKJ'",
      "\nDuring handling of the above exception, another exception occurred:\n",
      "\u001b[1;31mFileNotFoundError\u001b[0m                         Traceback (most recent call last)",
      "Cell \u001b[1;32mIn[4], line 32\u001b[0m\n\u001b[0;32m     30\u001b[0m source_path \u001b[38;5;241m=\u001b[39m source\u001b[38;5;241m+\u001b[39m\u001b[38;5;124m'\u001b[39m\u001b[38;5;124m/\u001b[39m\u001b[38;5;124m'\u001b[39m\u001b[38;5;241m+\u001b[39mLADANG\u001b[38;5;241m+\u001b[39m\u001b[38;5;124m'\u001b[39m\u001b[38;5;124m.gpkg\u001b[39m\u001b[38;5;124m'\u001b[39m\n\u001b[0;32m     31\u001b[0m destination_path \u001b[38;5;241m=\u001b[39m source\u001b[38;5;241m+\u001b[39m\u001b[38;5;124m'\u001b[39m\u001b[38;5;124m/GPKJ\u001b[39m\u001b[38;5;124m'\u001b[39m\n\u001b[1;32m---> 32\u001b[0m shutil\u001b[38;5;241m.\u001b[39mmove(source_path, destination_path)\n\u001b[0;32m     34\u001b[0m \u001b[38;5;28mprint\u001b[39m(\u001b[38;5;124m'\u001b[39m\u001b[38;5;124mAFIQ HENSEM.\u001b[39m\u001b[38;5;124m'\u001b[39m)\n",
      "File \u001b[1;32m~\\anaconda3\\Lib\\shutil.py:906\u001b[0m, in \u001b[0;36mmove\u001b[1;34m(src, dst, copy_function)\u001b[0m\n\u001b[0;32m    904\u001b[0m         rmtree(src)\n\u001b[0;32m    905\u001b[0m     \u001b[38;5;28;01melse\u001b[39;00m:\n\u001b[1;32m--> 906\u001b[0m         copy_function(src, real_dst)\n\u001b[0;32m    907\u001b[0m         os\u001b[38;5;241m.\u001b[39munlink(src)\n\u001b[0;32m    908\u001b[0m \u001b[38;5;28;01mreturn\u001b[39;00m real_dst\n",
      "File \u001b[1;32m~\\anaconda3\\Lib\\shutil.py:460\u001b[0m, in \u001b[0;36mcopy2\u001b[1;34m(src, dst, follow_symlinks)\u001b[0m\n\u001b[0;32m    458\u001b[0m     flags \u001b[38;5;241m|\u001b[39m\u001b[38;5;241m=\u001b[39m _winapi\u001b[38;5;241m.\u001b[39mCOPY_FILE_COPY_SYMLINK\n\u001b[0;32m    459\u001b[0m \u001b[38;5;28;01mtry\u001b[39;00m:\n\u001b[1;32m--> 460\u001b[0m     _winapi\u001b[38;5;241m.\u001b[39mCopyFile2(src_, dst_, flags)\n\u001b[0;32m    461\u001b[0m     \u001b[38;5;28;01mreturn\u001b[39;00m dst\n\u001b[0;32m    462\u001b[0m \u001b[38;5;28;01mexcept\u001b[39;00m \u001b[38;5;167;01mOSError\u001b[39;00m \u001b[38;5;28;01mas\u001b[39;00m exc:\n",
      "\u001b[1;31mFileNotFoundError\u001b[0m: [WinError 2] The system cannot find the file specified"
     ]
    }
   ],
   "source": [
    "import shutil\n",
    "import os\n",
    "from shapely.geometry import Point, Polygon\n",
    "\n",
    "DST_CRS= CRS.from_wkt('PROJCRS[\\\"Equirectangular MARS\\\",BASEGEOGCRS[\\\"GCS_MARS\\\",DATUM[\\\"unnamed\\\",ELLIPSOID[\\\"unnamed\\\",3396036.8126024,0,LENGTHUNIT[\\\"metre\\\",1,ID[\\\"EPSG\\\",9001]]]],PRIMEM[\\\"Reference meridian\\\",0,ANGLEUNIT[\\\"degree\\\",0.0174532925199433,ID[\\\"EPSG\\\",9122]]]],CONVERSION[\\\"unnamed\\\",METHOD[\\\"Equidistant Cylindrical (Spherical)\\\",ID[\\\"EPSG\\\",1029]],PARAMETER[\\\"Latitude of 1st standard parallel\\\",-5,ANGLEUNIT[\\\"degree\\\",0.0174532925199433],ID[\\\"EPSG\\\",8823]],PARAMETER[\\\"Longitude of natural origin\\\",180,ANGLEUNIT[\\\"degree\\\",0.0174532925199433],ID[\\\"EPSG\\\",8802]],PARAMETER[\\\"False easting\\\",0,LENGTHUNIT[\\\"metre\\\",1],ID[\\\"EPSG\\\",8806]],PARAMETER[\\\"False northing\\\",0,LENGTHUNIT[\\\"metre\\\",1],ID[\\\"EPSG\\\",8807]]],CS[Cartesian,2],AXIS[\\\"easting\\\",east,ORDER[1],LENGTHUNIT[\\\"metre\\\",1,ID[\\\"EPSG\\\",9001]]],AXIS[\\\"northing\\\",north,ORDER[2],LENGTHUNIT[\\\"metre\\\",1,ID[\\\"EPSG\\\",9001]]]]')\n",
    "# print(\"test:\"+source)\n",
    "detections = get_paths(source+'/predict/', 'txt')\n",
    "detections_paths = [source+'/predict/'+file for file in detections]\n",
    "# print(detections_paths)\n",
    "geodataframes = det2gdf(detections_paths, 'tif', IMG_PATH)\n",
    "\n",
    "try:\n",
    "    geoshapes.crs\n",
    "except:\n",
    "    geoshapes = geodataframes[0]\n",
    "    \n",
    "init_crs = geodataframes[0].crs\n",
    "for geo in geodataframes:\n",
    "    if geo.crs != init_crs:\n",
    "        geo = geo.to_crs(init_crs)\n",
    "#    geoshapes.append(geo, ingore_index=True)\n",
    "    geoshapes = gpd.GeoDataFrame(pd.concat([geoshapes,geo],ignore_index=True),crs=init_crs)\n",
    "\n",
    "fname = make_folder(source,LADANG)\n",
    "\n",
    "print('fname: '+fname)\n",
    "geoshapes.to_file(fname+'/'+LADANG+'.gpkg', driver='GPKG', crs=init_crs, engine='fiona') \n",
    "# geoshapes.to_file(fname+'/Inferred_landforms.shp', mode=\"a\", crs=init_crs)\n",
    "\n",
    "source_path = source+'/'+LADANG'\n",
    "destination_path = source+'/GPKJ'\n",
    "shutil.move(source_path, destination_path)\n",
    "\n",
    "print('AFIQ HENSEM.')"
   ]
  },
  {
   "cell_type": "code",
   "execution_count": null,
   "id": "eb7eecdd-71ee-45e9-bcdf-91149a2abbea",
   "metadata": {
    "scrolled": true
   },
   "outputs": [],
   "source": [
    "pip install fiona"
   ]
  },
  {
   "cell_type": "code",
   "execution_count": null,
   "id": "19c111c2",
   "metadata": {},
   "outputs": [],
   "source": [
    "import fiona\n",
    "print(fiona.__version__)"
   ]
  }
 ],
 "metadata": {
  "kernelspec": {
   "display_name": "Python 3 (ipykernel)",
   "language": "python",
   "name": "python3"
  },
  "language_info": {
   "codemirror_mode": {
    "name": "ipython",
    "version": 3
   },
   "file_extension": ".py",
   "mimetype": "text/x-python",
   "name": "python",
   "nbconvert_exporter": "python",
   "pygments_lexer": "ipython3",
   "version": "3.12.3"
  }
 },
 "nbformat": 4,
 "nbformat_minor": 5
}
